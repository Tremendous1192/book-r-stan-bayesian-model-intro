{
 "cells": [
  {
   "cell_type": "markdown",
   "id": "e85936a7",
   "metadata": {},
   "source": [
    "# 5-7-自己回帰モデルとその周辺"
   ]
  },
  {
   "cell_type": "code",
   "execution_count": null,
   "id": "4938449e",
   "metadata": {},
   "outputs": [],
   "source": [
    "# -*- coding: utf-8 -*-\n",
    "# 5-7 自己回帰モデル（R+Stan → Python+NumPyro 版）\n",
    "\n",
    "import numpy as np\n",
    "import pandas as pd\n",
    "import matplotlib.pyplot as plt\n",
    "import arviz as az\n",
    "import jax\n",
    "import jax.numpy as jnp\n",
    "import numpyro\n",
    "import numpyro.distributions as dist\n",
    "from numpyro.infer import MCMC, NUTS, Predictive\n",
    "from numpyro.contrib.render import render_model"
   ]
  },
  {
   "cell_type": "code",
   "execution_count": null,
   "id": "eb951313",
   "metadata": {},
   "outputs": [],
   "source": [
    "# ----------------------------------------------------------------------\n",
    "# 0) Settings (seed, print precision)\n",
    "# ----------------------------------------------------------------------\n",
    "rng_key = jax.random.PRNGKey(1)  # Rの seed=1 に対応\n",
    "np.set_printoptions(suppress=True, linewidth=120)"
   ]
  },
  {
   "cell_type": "code",
   "execution_count": null,
   "id": "85eef6fe",
   "metadata": {},
   "outputs": [],
   "source": [
    "# ----------------------------------------------------------------------\n",
    "# 1) Load CSV with pandas (no .loc is used)\n",
    "# ----------------------------------------------------------------------\n",
    "# ファイル名は元コードに合わせています\n",
    "df = pd.read_csv(\"5-7-1-sales-ts-5.csv\", parse_dates=[\"date\"])\n",
    "print(\"Head (first 3 rows):\")\n",
    "print(df.head(3))  # 計算結果の表示は print() を使用\n",
    "\n",
    "# 観測系列\n",
    "y_np = df[\"sales\"].to_numpy(dtype=np.float32)\n",
    "T = int(len(df))  # numpyro.plate の N は Python int にする"
   ]
  },
  {
   "cell_type": "code",
   "execution_count": null,
   "id": "0c166e57",
   "metadata": {},
   "outputs": [],
   "source": [
    "# ----------------------------------------------------------------------\n",
    "# 2) Quick visualization (matplotlib)\n",
    "#    ※ ラベルは英語\n",
    "# ----------------------------------------------------------------------\n",
    "plt.figure(figsize=(8, 3.5))\n",
    "plt.plot(df[\"date\"].to_numpy(), df[\"sales\"].to_numpy())\n",
    "plt.title(\"Sales Time Series\")\n",
    "plt.xlabel(\"Date\")\n",
    "plt.ylabel(\"Sales\")\n",
    "plt.tight_layout()\n",
    "plt.show()"
   ]
  },
  {
   "cell_type": "code",
   "execution_count": null,
   "id": "03213984",
   "metadata": {},
   "outputs": [],
   "source": [
    "# ----------------------------------------------------------------------\n",
    "# 3) AR(1) model in NumPyro  (Stanコードの写経)\n",
    "#    y[i] ~ Normal(Intercept + b_ar * y[i-1], s_w)  (i=2..T)\n",
    "#    ※ Stanでは暗黙事前でしたがNumPyroでは明示的に弱情報事前を置きます\n",
    "# ----------------------------------------------------------------------\n",
    "def ar1_model(y=None, T=None):\n",
    "    s_w = numpyro.sample(\"s_w\", dist.HalfNormal(10.0))     # process noise sd\n",
    "    b_ar = numpyro.sample(\"b_ar\", dist.Normal(0.0, 1.0))   # AR(1) coeff\n",
    "    Intercept = numpyro.sample(\"Intercept\", dist.Normal(0.0, 10.0))  # intercept\n",
    "\n",
    "    # 観測は y[1:], 平均は Intercept + b_ar * y[:-1]\n",
    "    # ループ i=2..T に対応して長さ (T-1)\n",
    "    N = int(T) - 1\n",
    "    with numpyro.plate(\"time\", N):\n",
    "        mu = Intercept + b_ar * y[:-1]\n",
    "        numpyro.sample(\"y\", dist.Normal(mu, s_w), obs=y[1:] if y is not None else None)"
   ]
  },
  {
   "cell_type": "code",
   "execution_count": null,
   "id": "801e3298",
   "metadata": {},
   "outputs": [],
   "source": [
    "# ----------------------------------------------------------------------\n",
    "# 4) Visualize the Bayesian model structure with NumPyro's built-in function\n",
    "#    （ベイズ統計モデルの可視化はNumPyro組み込みを使用）\n",
    "# ----------------------------------------------------------------------\n",
    "try:\n",
    "    g = render_model(ar1_model, model_kwargs={\"y\": y_np, \"T\": T}, render_distributions=True)\n",
    "    # Graphviz が入っていればファイル出力も可能（任意）\n",
    "    g.render(filename=\"autoregressive_model\", format=\"png\", cleanup=True)\n",
    "    print(\"Rendered model graph to 'autoregressive_model.png'\")\n",
    "except Exception as e:\n",
    "    print(f\"Model rendering skipped (Graphviz not available?): {e}\")"
   ]
  },
  {
   "cell_type": "code",
   "execution_count": null,
   "id": "cc768564",
   "metadata": {},
   "outputs": [],
   "source": [
    "# ----------------------------------------------------------------------\n",
    "# 5) MCMC (NUTS) with NumPyro\n",
    "#    Stanの control(list(max_treedepth=15)) に対応\n",
    "# ----------------------------------------------------------------------\n",
    "nuts = NUTS(ar1_model, max_tree_depth=15)\n",
    "mcmc = MCMC(nuts, num_warmup=1000, num_samples=2000, num_chains=4, progress_bar=True)\n",
    "mcmc.run(rng_key, y=y_np, T=T)\n",
    "\n",
    "# mcmc.postprocess_samples()  # ← 削除\n",
    "\n",
    "# チェーン別サンプルを NumPy に転送して取得\n",
    "posterior_chain = jax.device_get(mcmc.get_samples(group_by_chain=True))"
   ]
  },
  {
   "cell_type": "code",
   "execution_count": null,
   "id": "2869149e",
   "metadata": {},
   "outputs": [],
   "source": [
    "# ----------------------------------------------------------------------\n",
    "# 6) Convert to ArviZ InferenceData (禁止事項に合わせ az.from_dict を使用)\n",
    "#    - az.from_numpyro の mcmc / sample_stats / observed_data 引数は使用しない\n",
    "#    - coords/dims を与えて後でPPCを重ねやすくする\n",
    "# ----------------------------------------------------------------------\n",
    "coords = {\"time\": np.arange(1, T, dtype=int)}   # y のインデックス(2..T)に対応\n",
    "dims = {\"y\": [\"time\"]}\n",
    "\n",
    "idata = az.from_dict(\n",
    "    posterior=posterior_chain,   # posterior samples（チェーン結合せず）\n",
    "    coords=coords,\n",
    "    dims=dims,\n",
    ")\n",
    "\n",
    "# 概要統計 (print() で表示)\n",
    "print(\"\\nMCMC summary (posterior):\")\n",
    "print(az.summary(idata, var_names=[\"s_w\", \"b_ar\", \"Intercept\"]))\n",
    "\n",
    "# Gelman-Rubin などは summary に含まれる r_hat を参照\n",
    "# 追加でダイバージェンス数も確認（print）\n",
    "try:\n",
    "    diverging = mcmc.get_extra_fields()[\"diverging\"]\n",
    "    n_div = int(np.asarray(diverging).sum())\n",
    "    print(f\"\\nNumber of divergent transitions: {n_div}\")\n",
    "except Exception as e:\n",
    "    print(f\"\\nDivergence check skipped: {e}\")"
   ]
  },
  {
   "cell_type": "code",
   "execution_count": null,
   "id": "3ea975c6",
   "metadata": {},
   "outputs": [],
   "source": [
    "# ----------------------------------------------------------------------\n",
    "# 7) Posterior plots with ArviZ\n",
    "#    - 事後分布の可視化に ArviZ を使用\n",
    "#    - az.plot_posterior(..., hdi_prob=...) を使用（credible_interval は不使用）\n",
    "#    - トレースプロットも参考として作成\n",
    "# ----------------------------------------------------------------------\n",
    "az.plot_trace(idata, var_names=[\"s_w\", \"b_ar\", \"Intercept\"])\n",
    "plt.tight_layout()\n",
    "plt.show()\n",
    "\n",
    "az.plot_posterior(idata, var_names=[\"s_w\", \"b_ar\", \"Intercept\"], hdi_prob=0.95)\n",
    "plt.tight_layout()\n",
    "plt.show()\n",
    "\n",
    "# HDI（戻り値 Dataset を用い、変数名で取り出す）\n",
    "hdi_ds = az.hdi(idata, hdi_prob=0.95)\n",
    "print(\"\\n95% HDI for b_ar:\")\n",
    "print(hdi_ds[\"b_ar\"])\n",
    "\n",
    "# 森林図（group 引数は使用禁止のため未指定）\n",
    "az.plot_forest(idata, var_names=[\"s_w\", \"b_ar\", \"Intercept\"], combined=True)\n",
    "plt.title(\"Forest Plot (Combined Chains)\")\n",
    "plt.show()"
   ]
  },
  {
   "cell_type": "code",
   "execution_count": null,
   "id": "dfc0a32e",
   "metadata": {},
   "outputs": [],
   "source": [
    "# ----------------------------------------------------------------------\n",
    "# 8) Posterior Predictive Check (PPC)\n",
    "#    - Predictive の batch_ndims=1（チェイン結合を示す 1）を必ず指定\n",
    "#    - 観測 y を条件に y[1:] の事後予測を生成（mu は y[:-1] に依存）\n",
    "#    - az.plot_ppc(..., group=\"posterior\")\n",
    "# ----------------------------------------------------------------------\n",
    "rng_key, rng_pp = jax.random.split(rng_key)\n",
    "# 1) 事後サンプル（チェイン別）\n",
    "posterior_chain = jax.device_get(mcmc.get_samples(group_by_chain=True))  # (chains, draws, ...)\n",
    "\n",
    "# 2) Posterior predictive\n",
    "predictive = Predictive(\n",
    "    ar1_model,\n",
    "    posterior_samples=posterior_chain,\n",
    "    return_sites=[\"y\"],\n",
    "    batch_ndims=2,  # ← (chain, draw) の2次元をバッチ化\n",
    ")\n",
    "pp = predictive(rng_pp, y=y_np, T=T)       # pp[\"y\"]: (chains, draws, time)\n",
    "\n",
    "# 3) ArviZ へ\n",
    "idata_ppc = az.from_dict(\n",
    "    posterior=posterior_chain,\n",
    "    posterior_predictive={\"y\": np.asarray(pp[\"y\"])},  # (chains, draws, time)\n",
    "    observed_data={\"y\": y_np[1:]},\n",
    "    coords=coords,\n",
    "    dims=dims,  # dims={\"y\": [\"time\"]}\n",
    ")\n",
    "\n",
    "\n",
    "# PPC プロット（group=\"posterior\" を必ず渡す）\n",
    "az.plot_ppc(idata_ppc, group=\"posterior\", num_pp_samples=100)\n",
    "plt.title(\"Posterior Predictive Check (AR(1))\")\n",
    "plt.xlabel(\"y index (t = 2..T)\")\n",
    "plt.ylabel(\"Sales\")\n",
    "plt.show()"
   ]
  }
 ],
 "metadata": {
  "kernelspec": {
   "display_name": "Python 3",
   "language": "python",
   "name": "python3"
  },
  "language_info": {
   "codemirror_mode": {
    "name": "ipython",
    "version": 3
   },
   "file_extension": ".py",
   "mimetype": "text/x-python",
   "name": "python",
   "nbconvert_exporter": "python",
   "pygments_lexer": "ipython3",
   "version": "3.12.11"
  }
 },
 "nbformat": 4,
 "nbformat_minor": 5
}
