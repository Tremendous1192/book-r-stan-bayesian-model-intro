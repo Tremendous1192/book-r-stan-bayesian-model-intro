{
 "cells": [
  {
   "cell_type": "markdown",
   "id": "d2274b9e",
   "metadata": {},
   "source": [
    "# 3-3-モデルを用いた予測"
   ]
  },
  {
   "cell_type": "code",
   "execution_count": null,
   "id": "e26b3227",
   "metadata": {},
   "outputs": [],
   "source": [
    "# -*- coding: utf-8 -*-\n",
    "# 3-3: Prediction using a simple linear model (Python / NumPyro version)\n",
    "\n",
    "import pandas as pd\n",
    "import numpy as np\n",
    "import matplotlib.pyplot as plt\n",
    "import arviz as az\n",
    "\n",
    "import jax\n",
    "import jax.numpy as jnp\n",
    "from jax import random\n",
    "\n",
    "import numpyro\n",
    "import numpyro.distributions as dist\n",
    "from numpyro.infer import MCMC, NUTS, Predictive\n",
    "\n",
    "# ---- Utility ---------------------------------------------------------------\n",
    "SEED = 1\n",
    "rng_key = random.PRNGKey(SEED)\n",
    "NUM_CHAINS = 4\n",
    "NUM_WARMUP = 800\n",
    "NUM_SAMPLES = 1200\n",
    "\n",
    "def run_mcmc(model, num_chains=4, num_warmup=1000, num_samples=1000, thinning=1, seed=SEED, **model_kwargs):\n",
    "    num_devices = jax.local_device_count()\n",
    "    chain_method = \"parallel\" if num_devices >= num_chains else \"sequential\"\n",
    "    kernel = NUTS(model)\n",
    "    mcmc = MCMC(\n",
    "        kernel,\n",
    "        num_warmup=num_warmup,\n",
    "        num_samples=num_samples,\n",
    "        num_chains=num_chains,\n",
    "        thinning=thinning,\n",
    "        chain_method=chain_method,   # デバイスが足りない環境では最初から逐次実行に\n",
    "        progress_bar=True,\n",
    "    )\n",
    "    mcmc.run(random.PRNGKey(seed), **model_kwargs)\n",
    "    return mcmc\n",
    "\n",
    "# Try to use NumPyro's built-in model renderer (graphviz required)\n",
    "def try_render_model(model_fn, render_name, **model_args):\n",
    "    try:\n",
    "        g = numpyro.render_model(\n",
    "            model_fn,\n",
    "            model_args=(),\n",
    "            model_kwargs=model_args,\n",
    "            render_distributions=True,\n",
    "            render_params=True\n",
    "        )\n",
    "        outpath = f\"{render_name}.svg\"\n",
    "        g.render(render_name, format=\"svg\", cleanup=True)\n",
    "        print(f\"Model graph saved to: {outpath}\")\n",
    "    except Exception as e:\n",
    "        print(f\"(Skip model rendering for {render_name}: {e})\")\n",
    "\n",
    "def print_summary_from_idata(idata, var_names, hdi_prob=0.95, title=None):\n",
    "    if title:\n",
    "        print(f\"\\n=== {title} ===\")\n",
    "    summ = az.summary(idata, var_names=var_names, hdi_prob=hdi_prob)\n",
    "    print(summ)"
   ]
  },
  {
   "cell_type": "markdown",
   "id": "c9ead9b6",
   "metadata": {},
   "source": [
    "## 3.2 分析の準備"
   ]
  },
  {
   "cell_type": "code",
   "execution_count": null,
   "id": "2004d24c",
   "metadata": {},
   "outputs": [],
   "source": [
    "# ------------------------------------------------------------\n",
    "# 1) Load data (use pandas) & basic info\n",
    "# ------------------------------------------------------------\n",
    "df = pd.read_csv(\"3-2-1-beer-sales-2.csv\")  # <- CSV読み込みはpandas\n",
    "print(\"Head of data:\")\n",
    "print(df.head())  # 計算結果や中間結果の表示は print()\n",
    "\n",
    "sample_size = len(df)\n",
    "print(f\"Sample size: {sample_size}\")\n",
    "\n",
    "temperature = jnp.array(df[\"temperature\"].to_numpy())\n",
    "sales = jnp.array(df[\"sales\"].to_numpy())\n",
    "\n",
    "# Prediction temperatures: 11..30\n",
    "temperature_pred = jnp.arange(11, 31)\n",
    "print(\"Prediction temperatures (°C):\")\n",
    "print(np.array(temperature_pred))\n",
    "N_pred = int(temperature_pred.shape[0])"
   ]
  },
  {
   "cell_type": "markdown",
   "id": "0f369206",
   "metadata": {},
   "source": [
    "## 3.5 予測のためのStanファイルの修正"
   ]
  },
  {
   "cell_type": "code",
   "execution_count": null,
   "id": "4338ba8c",
   "metadata": {},
   "outputs": [],
   "source": [
    "# ------------------------------------------------------------\n",
    "# 2) NumPyro model (Bayesian estimation with weakly-informative priors)\n",
    "# ------------------------------------------------------------\n",
    "def simple_lm(temperature, sales=None):\n",
    "    # 弱情報事前分布（Stanの“非情報的”に相当する穏当な広い幅）\n",
    "    Intercept = numpyro.sample(\"Intercept\", dist.Normal(0.0, 10.0))  # <-- priors\n",
    "    beta = numpyro.sample(\"beta\", dist.Normal(0.0, 10.0))            # <-- priors\n",
    "    sigma = numpyro.sample(\"sigma\", dist.HalfNormal(10.0))           # <-- priors\n",
    "\n",
    "    mu = Intercept + beta * temperature\n",
    "    numpyro.deterministic(\"mu\", mu)\n",
    "    numpyro.sample(\"sales\", dist.Normal(mu, sigma), obs=sales)\n",
    "\n",
    "# （任意）モデル図の可視化：NumPyro組み込みの render_model を利用\n",
    "#try:\n",
    "#    import graphviz  # graphviz が環境にあればモデル可視化が保存されます\n",
    "#    graph = numpyro.render_model(simple_lm, model_args=(temperature,), model_kwargs={\"sales\": sales})\n",
    "#    graph.render(\"simple_lm_graph\", format=\"png\", cleanup=True)\n",
    "#    print(\"Saved model graph to simple_lm_graph.png\")\n",
    "#except Exception as e:\n",
    "#    print(f\"Model graph not rendered: {e}\")\n",
    "\n",
    "try_render_model(simple_lm, render_name = \"simple_lm_graph\",  temperature = temperature)"
   ]
  },
  {
   "cell_type": "markdown",
   "id": "16f6c6bd",
   "metadata": {},
   "source": [
    "## 3.6 MCMCの実行"
   ]
  },
  {
   "cell_type": "code",
   "execution_count": null,
   "id": "1f474480",
   "metadata": {},
   "outputs": [],
   "source": [
    "# ------------------------------------------------------------\n",
    "# 3) MCMC (NUTS)\n",
    "# ------------------------------------------------------------\n",
    "mcmc = run_mcmc(simple_lm, num_chains=4, num_warmup=1000, num_samples=1000, thinning=1, seed=SEED,  temperature = temperature)"
   ]
  },
  {
   "cell_type": "code",
   "execution_count": null,
   "id": "ead06e5c",
   "metadata": {},
   "outputs": [],
   "source": [
    "# NumPyro組み込みのサマリ出力（print()）\n",
    "mcmc.print_summary()"
   ]
  },
  {
   "cell_type": "code",
   "execution_count": null,
   "id": "e9fe63c7",
   "metadata": {},
   "outputs": [],
   "source": [
    "# 追加でArviZのsummary（print()）\n",
    "idata_post = az.from_numpyro(posterior=mcmc)  # ← observed_data は使わない\n",
    "#print(az.summary(idata_post, var_names=[\"Intercept\", \"beta\", \"sigma\"]).to_string())"
   ]
  },
  {
   "cell_type": "code",
   "execution_count": null,
   "id": "51150565",
   "metadata": {},
   "outputs": [],
   "source": [
    "print_summary_from_idata(idata_post, var_names = [\"Intercept\", \"beta\", \"sigma\"], hdi_prob=0.95, title=None)"
   ]
  },
  {
   "cell_type": "markdown",
   "id": "45613abd",
   "metadata": {},
   "source": [
    "## 3.7 予測分布の可視化"
   ]
  },
  {
   "cell_type": "code",
   "execution_count": null,
   "id": "a9763a88",
   "metadata": {},
   "outputs": [],
   "source": [
    "# ------------------------------------------------------------\n",
    "# 4) Posterior Predictive for observed data (PPC)\n",
    "#    - az.from_numpyro の observed_data 引数は使わず、from_dictで構築\n",
    "# ------------------------------------------------------------\n",
    "ppc = Predictive(simple_lm, posterior_samples=mcmc.get_samples())(\n",
    "    random.PRNGKey(2), temperature=temperature\n",
    ")\n",
    "# NumPyro の Predictive は既定で「チェーンを潰した1本の系列（drawのみ）」を返すので、先頭に長さ1の chain 次元を足してから渡します。\n",
    "#idata_ppc = az.from_dict(\n",
    "#    posterior_predictive={\"sales\": np.array(ppc[\"sales\"])[None, :, :]},   # 予測された観測\n",
    "#    observed_data={\"sales\": np.array(sales)},                 # 観測データ（from_dictで渡す）\n",
    "#    coords={\"obs_index\": np.arange(sample_size)},\n",
    "#    dims={\"sales\": [\"obs_index\"], \"mu\": [\"obs_index\"]},\n",
    "#)"
   ]
  },
  {
   "cell_type": "code",
   "execution_count": null,
   "id": "c3cfb98a",
   "metadata": {},
   "outputs": [],
   "source": [
    "# ------------------------------------------------------------\n",
    "# 5) Predictions for new temperatures (11..30°C)\n",
    "#    mu_pred と sales_pred を生成\n",
    "# ------------------------------------------------------------\n",
    "def pred_model(temperature_pred):\n",
    "    # 事前はダミー（posterior_samplesで置換される）\n",
    "    Intercept = numpyro.sample(\"Intercept\", dist.Normal(0.0, 10.0))\n",
    "    beta = numpyro.sample(\"beta\", dist.Normal(0.0, 10.0))\n",
    "    sigma = numpyro.sample(\"sigma\", dist.HalfNormal(10.0))\n",
    "    mu_pred = Intercept + beta * temperature_pred\n",
    "    numpyro.deterministic(\"mu_pred\", mu_pred)\n",
    "    numpyro.sample(\"sales_pred\", dist.Normal(mu_pred, sigma))\n",
    "\n",
    "pred_new = Predictive(pred_model, posterior_samples=mcmc.get_samples())(\n",
    "    random.PRNGKey(3), temperature_pred=temperature_pred\n",
    ")\n",
    "\n",
    "# predictions グループとして格納（observed_dataは禁止条件に該当しない from_dict を使用）\n",
    "idata_pred = az.from_dict(\n",
    "    predictions={\n",
    "        \"mu_pred\": np.array(pred_new[\"mu_pred\"])[None, :, :],           # 期待値の事後分布\n",
    "        \"sales_pred\": np.array(pred_new[\"sales_pred\"])[None, :, :],     # 予測値（ノイズ込み）\n",
    "    },\n",
    "    coords={\"pred_index\": np.arange(N_pred)},\n",
    "    dims={\"mu_pred\": [\"pred_index\"], \"sales_pred\": [\"pred_index\"]},\n",
    ")"
   ]
  },
  {
   "cell_type": "code",
   "execution_count": null,
   "id": "fd3f101c",
   "metadata": {},
   "outputs": [],
   "source": [
    "# ------------------------------------------------------------\n",
    "# 6) Visualization\n",
    "#    - matplotlib / ArviZ を使用\n",
    "#    - ラベルは英語表記\n",
    "#    - az.plot_posterior では hdi_prob を使用（credible_intervalは使わない）\n",
    "#    - az.plot_ppc の group は \"posterior\" を使用\n",
    "#    - az.from_numpyro(observed_data=...) は使用しない\n",
    "#    - az.plot_density(kind=...) は使わない\n",
    "# ------------------------------------------------------------\n",
    "\n",
    "# 6-1) Raw data scatter + posterior mean line + 95% prediction interval\n",
    "sales_pred_samples = np.array(pred_new[\"sales_pred\"])  # shape: (draws, pred_index)\n",
    "mu_pred_samples = np.array(pred_new[\"mu_pred\"])\n",
    "mean_mu = mu_pred_samples.mean(axis=0)\n",
    "lower_pi, upper_pi = np.percentile(sales_pred_samples, [2.5, 97.5], axis=0)\n",
    "\n",
    "fig, ax = plt.subplots()\n",
    "ax.scatter(np.array(temperature), np.array(sales), alpha=0.6, label=\"Observed sales\")\n",
    "ax.plot(np.array(temperature_pred), mean_mu, label=\"Posterior mean of expected sales\")\n",
    "ax.fill_between(np.array(temperature_pred), lower_pi, upper_pi, alpha=0.3, label=\"95% prediction interval\")\n",
    "ax.set_xlabel(\"Temperature (°C)\")\n",
    "ax.set_ylabel(\"Sales\")\n",
    "ax.set_title(\"Beer Sales vs Temperature with Posterior Predictions\")\n",
    "ax.legend()\n",
    "plt.show()\n",
    "\n",
    "# 6-2) Posterior Predictive Check for observed data\n",
    "#     （条件に従い group=\"posterior\" を指定）\n",
    "#az.plot_ppc(idata_ppc, group=\"posterior\")\n",
    "#plt.title(\"Posterior Predictive Check (Observed vs Posterior Predictive)\")\n",
    "#plt.show()\n",
    "\n",
    "# 6-3) 11～30°C の各温度での予測値の95%区間（bayesplot::mcmc_intervals相当）\n",
    "az.plot_forest(\n",
    "    idata_pred.predictions,\n",
    "    var_names=[\"sales_pred\"],\n",
    "    combined=True,\n",
    "    hdi_prob=0.95\n",
    ")\n",
    "plt.title(\"95% intervals for predicted sales by temperature (11–30°C)\")\n",
    "plt.xlabel(\"Predicted sales\")\n",
    "plt.show()\n",
    "\n",
    "# 6-4) mu_pred[1] と sales_pred[1] の95%区間比較（Rの比較に相当）\n",
    "az.plot_forest(\n",
    "    idata_pred.predictions,\n",
    "    var_names=[\"mu_pred\", \"sales_pred\"],\n",
    "    coords={\"pred_index\": [0]},\n",
    "    combined=True,\n",
    "    hdi_prob=0.95\n",
    ")\n",
    "plt.title(\"95% interval: expected vs predicted sales at 11°C\")\n",
    "plt.xlabel(\"Value\")\n",
    "plt.show()\n",
    "\n",
    "# 6-5) sales_pred[1]（=11°C）と sales_pred[20]（=30°C）の事後分布比較\n",
    "az.plot_posterior(\n",
    "    idata_pred,\n",
    "    var_names=[\"sales_pred\"],\n",
    "    coords={\"pred_index\": [0, N_pred - 1]},\n",
    "    group=\"predictions\",\n",
    "    hdi_prob=0.99\n",
    ")\n",
    "plt.suptitle(\"Posterior of predicted sales at 11°C and 30°C\", y=1.02)\n",
    "plt.show()"
   ]
  },
  {
   "cell_type": "markdown",
   "id": "a0cbd75c",
   "metadata": {},
   "source": [
    "## まとめ"
   ]
  },
  {
   "cell_type": "code",
   "execution_count": null,
   "id": "99978eac",
   "metadata": {},
   "outputs": [],
   "source": [
    "# ------------------------------------------------------------\n",
    "# 7) Print a few numerical results (print() as required)\n",
    "# ------------------------------------------------------------\n",
    "print(\"Posterior mean of Intercept, beta, sigma:\")\n",
    "post = az.extract(idata_post, group=\"posterior\")\n",
    "for p in [\"Intercept\", \"beta\", \"sigma\"]:\n",
    "    vals = np.array(post[p]).ravel()\n",
    "    print(f\"{p}: mean={vals.mean():.3f}, sd={vals.std(ddof=1):.3f}\")\n",
    "\n",
    "print(\"First 5 predictions for 11–30°C (posterior mean of expected sales):\")\n",
    "for t, m in zip(np.array(temperature_pred[:5]), mean_mu[:5]):\n",
    "    print(f\"T={t}°C -> E[sales] ≈ {m:.2f}\")"
   ]
  }
 ],
 "metadata": {
  "kernelspec": {
   "display_name": "Python 3",
   "language": "python",
   "name": "python3"
  },
  "language_info": {
   "codemirror_mode": {
    "name": "ipython",
    "version": 3
   },
   "file_extension": ".py",
   "mimetype": "text/x-python",
   "name": "python",
   "nbconvert_exporter": "python",
   "pygments_lexer": "ipython3",
   "version": "3.12.11"
  }
 },
 "nbformat": 4,
 "nbformat_minor": 5
}
