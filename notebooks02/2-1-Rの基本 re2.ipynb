{
 "cells": [
  {
   "cell_type": "markdown",
   "id": "81f19ce4",
   "metadata": {},
   "source": [
    "# 2-1-Rの基本"
   ]
  },
  {
   "cell_type": "code",
   "execution_count": null,
   "id": "132212e7",
   "metadata": {},
   "outputs": [],
   "source": [
    "# -*- coding: utf-8 -*-\n",
    "# Rの基本｜RとStanではじめる ベイズ統計モデリングによるデータ分析入門\n",
    "# 馬場真哉\n",
    "# --- Python 版 ---\n",
    "\n",
    "# 必要パッケージ\n",
    "# pip install numpy pandas matplotlib seaborn arviz numpyro jax jaxlib graphviz\n",
    "import numpy as np\n",
    "import pandas as pd\n",
    "import matplotlib.pyplot as plt\n",
    "import seaborn as sns\n",
    "import arviz as az\n",
    "\n",
    "import jax\n",
    "import jax.random as random\n",
    "import numpyro\n",
    "import numpyro.distributions as dist\n",
    "from numpyro.infer import MCMC, NUTS\n",
    "from numpyro import render_model\n",
    "\n",
    "# 表示設定（任意）\n",
    "pd.set_option(\"display.width\", 120)\n",
    "pd.set_option(\"display.max_columns\", 20)"
   ]
  },
  {
   "cell_type": "markdown",
   "id": "2995239c",
   "metadata": {},
   "source": [
    "## 1.4 RStudioの使い方"
   ]
  },
  {
   "cell_type": "code",
   "execution_count": null,
   "id": "3eb141bd",
   "metadata": {},
   "outputs": [],
   "source": [
    "# ------------------------------------------------------------------------------\n",
    "# RStudioの使い方 → 四則演算\n",
    "# ------------------------------------------------------------------------------\n",
    "print(1 + 1)\n",
    "print(3 - 1)\n",
    "print(3 * 4)\n",
    "print(8 / 6)\n",
    "print(2 ** 10)  # Rの ^ は Python では **\n",
    "\n",
    "# これは実行されない\n",
    "# print(1 + 1)"
   ]
  },
  {
   "cell_type": "markdown",
   "id": "4406c855",
   "metadata": {},
   "source": [
    "## 1.5 変数"
   ]
  },
  {
   "cell_type": "code",
   "execution_count": null,
   "id": "56a2cd80",
   "metadata": {},
   "outputs": [],
   "source": [
    "# ------------------------------------------------------------------------------\n",
    "# 変数\n",
    "# ------------------------------------------------------------------------------\n",
    "x = 2\n",
    "print(x + 1)"
   ]
  },
  {
   "cell_type": "markdown",
   "id": "335c5e04",
   "metadata": {},
   "source": [
    "## 1.6 関数"
   ]
  },
  {
   "cell_type": "code",
   "execution_count": null,
   "id": "5c53ba0f",
   "metadata": {},
   "outputs": [],
   "source": [
    "# ------------------------------------------------------------------------------\n",
    "# 関数\n",
    "# ------------------------------------------------------------------------------\n",
    "print(np.sqrt(4))"
   ]
  },
  {
   "cell_type": "markdown",
   "id": "41e912bc",
   "metadata": {},
   "source": [
    "## 1.7 ベクトル(vector)"
   ]
  },
  {
   "cell_type": "code",
   "execution_count": null,
   "id": "d5d49c9b",
   "metadata": {},
   "outputs": [],
   "source": [
    "# ------------------------------------------------------------------------------\n",
    "# ベクトル（Pythonでは主にnumpy配列を使用）\n",
    "# ------------------------------------------------------------------------------\n",
    "vector_1 = np.array([1, 2, 3, 4, 5])\n",
    "print(vector_1)\n",
    "\n",
    "# 等差数列\n",
    "print(np.arange(1, 11))  # 1:10"
   ]
  },
  {
   "cell_type": "markdown",
   "id": "8190f98d",
   "metadata": {},
   "source": [
    "## 1.8 行列(matrix)"
   ]
  },
  {
   "cell_type": "code",
   "execution_count": null,
   "id": "8075f34b",
   "metadata": {},
   "outputs": [],
   "source": [
    "# ------------------------------------------------------------------------------\n",
    "# 行列（行名・列名を付ける用途は pandas.DataFrame が便利）\n",
    "# ------------------------------------------------------------------------------\n",
    "matrix_1_np = np.arange(1, 11).reshape(2, 5, order=\"C\")  # byrow=TRUE 相当\n",
    "matrix_df = pd.DataFrame(\n",
    "    matrix_1_np,\n",
    "    index=[\"Row1\", \"Row2\"],\n",
    "    columns=[\"Col1\", \"Col2\", \"Col3\", \"Col4\", \"Col5\"]\n",
    ")\n",
    "print(matrix_df)"
   ]
  },
  {
   "cell_type": "markdown",
   "id": "ee6ea63e",
   "metadata": {},
   "source": [
    "## 1.9 配列(array)"
   ]
  },
  {
   "cell_type": "code",
   "execution_count": null,
   "id": "05912e98",
   "metadata": {},
   "outputs": [],
   "source": [
    "# ------------------------------------------------------------------------------\n",
    "# 配列（3次元）\n",
    "# ------------------------------------------------------------------------------\n",
    "array_1 = np.arange(1, 31).reshape(3, 5, 2, order=\"C\")  # dim=(3,5,2)\n",
    "print(array_1)"
   ]
  },
  {
   "cell_type": "markdown",
   "id": "1902cbe1",
   "metadata": {},
   "source": [
    "## 1.10 データフレーム(data.frame)"
   ]
  },
  {
   "cell_type": "code",
   "execution_count": null,
   "id": "ed17d90e",
   "metadata": {},
   "outputs": [],
   "source": [
    "# ------------------------------------------------------------------------------\n",
    "# データフレーム\n",
    "# ------------------------------------------------------------------------------\n",
    "data_frame_1 = pd.DataFrame({\n",
    "    \"col1\": [\"A\", \"B\", \"C\", \"D\", \"E\"],\n",
    "    \"col2\": [1, 2, 3, 4, 5]\n",
    "})\n",
    "print(data_frame_1)\n",
    "\n",
    "# 行数\n",
    "print(\"行数\\n\", data_frame_1.shape[0])"
   ]
  },
  {
   "cell_type": "markdown",
   "id": "b2c16542",
   "metadata": {},
   "source": [
    "## 1.11 リスト(list)"
   ]
  },
  {
   "cell_type": "code",
   "execution_count": null,
   "id": "16f453ac",
   "metadata": {},
   "outputs": [],
   "source": [
    "# ------------------------------------------------------------------------------\n",
    "# リスト(list)（Pythonでは dict や list で表現）\n",
    "# ------------------------------------------------------------------------------\n",
    "list_1 = {\n",
    "    \"chara\": np.array([\"A\", \"B\", \"C\"]),\n",
    "    \"matrix\": matrix_df,\n",
    "    \"df\": data_frame_1\n",
    "}\n",
    "print(list_1)"
   ]
  },
  {
   "cell_type": "markdown",
   "id": "f851acb8",
   "metadata": {},
   "source": [
    "## 1.12 データの抽出"
   ]
  },
  {
   "cell_type": "code",
   "execution_count": null,
   "id": "7bc4a766",
   "metadata": {},
   "outputs": [],
   "source": [
    "# ------------------------------------------------------------------------------\n",
    "# データの抽出（Python は 0始まりのインデックスに注意）\n",
    "# ------------------------------------------------------------------------------\n",
    "# vectorの特定の値を取得（Rの vector_1[1] 相当は Python では [0]）\n",
    "print(vector_1[0])\n",
    "\n",
    "# matrixの場合（ここではDataFrameで再現）\n",
    "print(matrix_df.iloc[0, 1])        # R: matrix_1[1,2]\n",
    "print(array_1[0, 1, 0])            # R: array_1[1,2,1]\n",
    "\n",
    "# 特定行・列\n",
    "print(matrix_df.iloc[0, :])        # R: matrix_1[1,]\n",
    "print(matrix_df.iloc[:, 0])        # R: matrix_1[,1]\n",
    "\n",
    "# 特定範囲\n",
    "print(matrix_df.iloc[0, 1:4])      # R: matrix_1[1,2:4]\n",
    "\n",
    "# 要素数など\n",
    "print(matrix_df.shape)\n",
    "print(array_1.shape)\n",
    "\n",
    "# 行名と列名\n",
    "print((matrix_df.index.tolist(), matrix_df.columns.tolist()))\n",
    "\n",
    "# 行名と列名を指定して抽出\n",
    "print(matrix_df.loc[\"Row1\", \"Col1\"])\n",
    "\n",
    "# 特定列の抽出\n",
    "print(data_frame_1[\"col2\"])\n",
    "\n",
    "# 特定列の特定要素\n",
    "print(data_frame_1[\"col2\"].iloc[1])  # R: data_frame_1$col2[2]\n",
    "\n",
    "# 先頭行\n",
    "print(data_frame_1.head(2))\n",
    "\n",
    "# listの場合の抽出\n",
    "print(list_1[\"chara\"])\n",
    "print(list(list_1.values())[0])  # Rの [[1]] 的な「最初の要素」をざっくり再現"
   ]
  },
  {
   "cell_type": "markdown",
   "id": "1bd352cc",
   "metadata": {},
   "source": [
    "## 1.13 時系列データ(ts)"
   ]
  },
  {
   "cell_type": "code",
   "execution_count": null,
   "id": "a4d41191",
   "metadata": {},
   "outputs": [],
   "source": [
    "# ------------------------------------------------------------------------------\n",
    "# 時系列データ：ts（pandas の DatetimeIndex を使用）\n",
    "# ------------------------------------------------------------------------------\n",
    "data_frame_2 = pd.DataFrame({\"data\": np.arange(1, 25)})\n",
    "\n",
    "ts_index = pd.date_range(start=\"2010-01-01\", periods=24, freq=\"MS\")  # 月初基準\n",
    "ts_1 = pd.Series(data_frame_2[\"data\"].values, index=ts_index)\n",
    "print(ts_1)\n",
    "\n",
    "# 可視化（matplotlib / seaborn）\n",
    "plt.figure()\n",
    "sns.lineplot(x=ts_1.index, y=ts_1.values)\n",
    "plt.title(\"Time Series (Monthly)\")\n",
    "plt.xlabel(\"Date\")\n",
    "plt.ylabel(\"Value\")\n",
    "plt.tight_layout()\n",
    "plt.show()"
   ]
  },
  {
   "cell_type": "markdown",
   "id": "0f778417",
   "metadata": {},
   "source": [
    "## 1.14 ファイルからのデータの読み込み"
   ]
  },
  {
   "cell_type": "code",
   "execution_count": null,
   "id": "7fc85bc8",
   "metadata": {},
   "outputs": [],
   "source": [
    "# ------------------------------------------------------------------------------\n",
    "# ファイルからのデータの読み込み（CSVは pandas で）\n",
    "# ------------------------------------------------------------------------------\n",
    "try:\n",
    "    birds = pd.read_csv(\"2-1-1-birds.csv\")\n",
    "    print(birds.head(3))\n",
    "except FileNotFoundError:\n",
    "    print(\"CSVファイル '2-1-1-birds.csv' が見つかりません。実行フォルダに配置してください。\")"
   ]
  },
  {
   "cell_type": "markdown",
   "id": "165caf4e",
   "metadata": {},
   "source": [
    "## 1.15 乱数の生成"
   ]
  },
  {
   "cell_type": "code",
   "execution_count": null,
   "id": "2a4149b0",
   "metadata": {},
   "outputs": [],
   "source": [
    "# ------------------------------------------------------------------------------\n",
    "# 乱数の生成（numpy.random）\n",
    "# ------------------------------------------------------------------------------\n",
    "# 平均0、標準偏差1の正規分布乱数を1つ\n",
    "print(np.random.normal(loc=0, scale=1, size=1))\n",
    "print(np.random.normal(loc=0, scale=1, size=1))\n",
    "\n",
    "# 乱数の固定\n",
    "np.random.seed(1)\n",
    "print(np.random.normal(0, 1, 1))\n",
    "np.random.seed(1)\n",
    "print(np.random.normal(0, 1, 1))\n",
    "\n",
    "# さらに確認\n",
    "np.random.seed(1)\n",
    "print(np.random.normal(0, 1, 1))\n",
    "print(np.random.normal(0, 1, 1))\n",
    "np.random.seed(1)\n",
    "print(np.random.normal(0, 1, 1))\n",
    "print(np.random.normal(0, 1, 1))"
   ]
  },
  {
   "cell_type": "markdown",
   "id": "1803f1ab",
   "metadata": {},
   "source": [
    "# 1.16 繰り返し構文とforループ"
   ]
  },
  {
   "cell_type": "code",
   "execution_count": null,
   "id": "6d649e63",
   "metadata": {},
   "outputs": [],
   "source": [
    "# --------------------------------------------------------------------------\n",
    "# 繰り返し構文とforループ\n",
    "# --------------------------------------------------------------------------\n",
    "for i in range(1, 4):\n",
    "    print(i)\n",
    "\n",
    "# 要素番号を変えながら実行\n",
    "result_vec_1 = np.zeros(3)\n",
    "np.random.seed(1)\n",
    "for i in range(3):\n",
    "    # sizeを指定しない => スカラーが返る\n",
    "    result_vec_1[i] = np.random.normal(0, 1)\n",
    "print(result_vec_1)\n",
    "\n",
    "# 平均値を変えながら\n",
    "result_vec_2 = np.zeros(3)\n",
    "mean_vec = np.array([0, 10, -5])\n",
    "np.random.seed(1)\n",
    "for i in range(3):\n",
    "    # こちらもsizeを指定しない\n",
    "    result_vec_2[i] = np.random.normal(mean_vec[i], 1)\n",
    "print(result_vec_2)"
   ]
  },
  {
   "cell_type": "markdown",
   "id": "11c4db8a",
   "metadata": {},
   "source": [
    "## 1.17 外部パッケージの活用"
   ]
  },
  {
   "cell_type": "code",
   "execution_count": null,
   "id": "5a9c618a",
   "metadata": {},
   "outputs": [],
   "source": [
    "# ------------------------------------------------------------------------------\n",
    "# 外部パッケージの活用（Rの install.packages(\"tidyverse\") 的な例示）\n",
    "# Pythonでは pip でインストールします（例）:\n",
    "#   pip install pandas seaborn numpyro arviz\n",
    "# ------------------------------------------------------------------------------\n",
    "print(\"外部パッケージは pip でインストールしてください（例: pip install pandas seaborn numpyro arviz）\")"
   ]
  },
  {
   "cell_type": "markdown",
   "id": "d400a44c",
   "metadata": {},
   "source": [
    "## ベイズ推定"
   ]
  },
  {
   "cell_type": "code",
   "execution_count": null,
   "id": "8d6eef04",
   "metadata": {},
   "outputs": [],
   "source": [
    "# ==============================================================================\n",
    "# ベイズ推定（NumPyro）: モデル可視化=render_model, 事後可視化=ArviZ\n",
    "# ==============================================================================\n",
    "\n",
    "# ---- imports ----\n",
    "import numpy as np\n",
    "import jax\n",
    "import jax.numpy as jnp\n",
    "from jax import random\n",
    "import matplotlib.pyplot as plt\n",
    "import arviz as az\n",
    "\n",
    "import numpyro\n",
    "from numpyro import distributions as dist\n",
    "from numpyro.infer import MCMC, NUTS\n",
    "from numpyro.contrib.render import render_model\n",
    "\n",
    "# （任意）倍精度が必要なら有効化\n",
    "# numpyro.enable_x64()\n",
    "\n",
    "# ---- 観測データ（例）----\n",
    "rng_np = np.random.default_rng(123)\n",
    "y_np = rng_np.normal(loc=3.0, scale=1.0, size=50)\n",
    "y = jnp.asarray(y_np)  # JAX配列へ変換\n",
    "print(f\"観測データサイズ: {y_np.size}, 平均≈{y_np.mean():.3f}, 標準偏差≈{y_np.std(ddof=1):.3f}\")\n",
    "\n",
    "# ---- NumPyro モデル定義 ----\n",
    "def normal_model(y=None):\n",
    "    mu = numpyro.sample(\"mu\", dist.Normal(0.0, 10.0))\n",
    "    sigma = numpyro.sample(\"sigma\", dist.HalfNormal(5.0))\n",
    "    N = y.shape[0] if y is not None else 1  # y=None でも壊れないように\n",
    "    with numpyro.plate(\"N\", N):\n",
    "        numpyro.sample(\"obs\", dist.Normal(mu, sigma), obs=y)\n",
    "\n",
    "# ---- モデルの可視化（NumPyro組み込み）----\n",
    "try:\n",
    "    g = render_model(\n",
    "        normal_model,\n",
    "        model_args=(),\n",
    "        model_kwargs={\"y\": y},\n",
    "        render_distributions=True,\n",
    "        render_params=True\n",
    "    )\n",
    "    g.render(filename=\"bayes_model\", format=\"svg\", cleanup=True)\n",
    "    print(\"NumPyroのモデル図を 'bayes_model.svg' として保存しました。\")\n",
    "except Exception as e:\n",
    "    print(f\"モデル図のレンダリングをスキップしました（理由: {e}）。Graphvizの導入が必要な場合があります。\")\n",
    "\n",
    "# ---- 乱数キーとMCMC設定 ----\n",
    "key = random.PRNGKey(0)\n",
    "kernel = NUTS(normal_model)\n",
    "\n",
    "# デバイス数に応じてチェーン実行方式を決定（警告回避）\n",
    "num_devices = jax.local_device_count()\n",
    "chain_method = \"parallel\" if num_devices >= 2 else \"sequential\"\n",
    "\n",
    "mcmc = MCMC(\n",
    "    kernel,\n",
    "    num_warmup=1000,\n",
    "    num_samples=2000,\n",
    "    num_chains=2,            # 2チェーンは維持\n",
    "    chain_method=chain_method,  # 並列不可なら最初から逐次に\n",
    "    progress_bar=False\n",
    ")\n",
    "\n",
    "mcmc.run(key, y=y)\n",
    "mcmc.print_summary()\n",
    "\n",
    "# ---- ArviZ に変換して可視化 ----\n",
    "idata = az.from_numpyro(mcmc)\n",
    "\n",
    "# 事後分布のプロット\n",
    "az.plot_posterior(idata, var_names=[\"mu\", \"sigma\"], hdi_prob=0.95)\n",
    "plt.tight_layout(); plt.show()\n",
    "\n",
    "# トレースプロット\n",
    "az.plot_trace(idata, var_names=[\"mu\", \"sigma\"])\n",
    "plt.tight_layout(); plt.show()\n"
   ]
  }
 ],
 "metadata": {
  "kernelspec": {
   "display_name": "Python 3",
   "language": "python",
   "name": "python3"
  },
  "language_info": {
   "codemirror_mode": {
    "name": "ipython",
    "version": 3
   },
   "file_extension": ".py",
   "mimetype": "text/x-python",
   "name": "python",
   "nbconvert_exporter": "python",
   "pygments_lexer": "ipython3",
   "version": "3.12.11"
  }
 },
 "nbformat": 4,
 "nbformat_minor": 5
}
