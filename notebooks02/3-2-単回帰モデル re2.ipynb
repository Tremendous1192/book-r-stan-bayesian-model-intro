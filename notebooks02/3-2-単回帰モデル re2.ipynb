{
 "cells": [
  {
   "cell_type": "markdown",
   "id": "a192e174",
   "metadata": {},
   "source": [
    "# 3-2-単回帰モデル"
   ]
  },
  {
   "cell_type": "code",
   "execution_count": null,
   "id": "870cb350",
   "metadata": {},
   "outputs": [],
   "source": [
    "# 3-2-単回帰モデル (R+Stan -> Python+NumPyro/ArviZ)\n",
    "\n",
    "# === Imports ===\n",
    "import pandas as pd\n",
    "import numpy as np\n",
    "import matplotlib.pyplot as plt\n",
    "import seaborn as sns\n",
    "import arviz as az\n",
    "\n",
    "import jax\n",
    "import jax.numpy as jnp\n",
    "from jax import random\n",
    "from numpyro import distributions as dist\n",
    "from numpyro import sample\n",
    "from numpyro.infer import MCMC, NUTS, Predictive\n",
    "from numpyro import render_model\n",
    "\n",
    "# ---- Utility ---------------------------------------------------------------\n",
    "SEED = 1\n",
    "rng_key = random.PRNGKey(SEED)\n",
    "NUM_CHAINS = 4\n",
    "NUM_WARMUP = 800\n",
    "NUM_SAMPLES = 1200\n",
    "\n",
    "def run_mcmc(model, num_chains=4, num_warmup=1000, num_samples=1000, thinning=1, seed=SEED, **model_kwargs):\n",
    "    num_devices = jax.local_device_count()\n",
    "    chain_method = \"parallel\" if num_devices >= num_chains else \"sequential\"\n",
    "    kernel = NUTS(model)\n",
    "    mcmc = MCMC(\n",
    "        kernel,\n",
    "        num_warmup=num_warmup,\n",
    "        num_samples=num_samples,\n",
    "        num_chains=num_chains,\n",
    "        thinning=thinning,\n",
    "        chain_method=chain_method,   # デバイスが足りない環境では最初から逐次実行に\n",
    "        progress_bar=True,\n",
    "    )\n",
    "    mcmc.run(random.PRNGKey(seed), **model_kwargs)\n",
    "    return mcmc"
   ]
  },
  {
   "cell_type": "markdown",
   "id": "44e7df41",
   "metadata": {},
   "source": [
    "## データを読み込む"
   ]
  },
  {
   "cell_type": "code",
   "execution_count": null,
   "id": "d5755198",
   "metadata": {},
   "outputs": [],
   "source": [
    "# === Data loading (pandas) ===\n",
    "df = pd.read_csv(\"3-2-1-beer-sales-2.csv\")\n",
    "print(\"Head (n=3):\")\n",
    "print(df.head(3))  # print()で結果表示\n",
    "\n",
    "sample_size = len(df)\n",
    "print(f\"Sample size: {sample_size}\")  # print()で結果表示\n",
    "\n",
    "# Convert to JAX arrays\n",
    "temperature = jnp.array(df[\"temperature\"].values)\n",
    "sales = jnp.array(df[\"sales\"].values)"
   ]
  },
  {
   "cell_type": "code",
   "execution_count": null,
   "id": "1756bb0d",
   "metadata": {},
   "outputs": [],
   "source": [
    "# === Visualization of raw data (seaborn/matplotlib, labels in English) ===\n",
    "plt.figure()\n",
    "sns.scatterplot(x=df[\"temperature\"], y=df[\"sales\"])\n",
    "plt.title(\"Beer Sales vs. Temperature\")\n",
    "plt.xlabel(\"Temperature\")\n",
    "plt.ylabel(\"Sales\")\n",
    "plt.tight_layout()\n",
    "plt.show()"
   ]
  },
  {
   "cell_type": "markdown",
   "id": "358442f3",
   "metadata": {},
   "source": [
    "## モデルを定義する"
   ]
  },
  {
   "cell_type": "code",
   "execution_count": null,
   "id": "b5dfea46",
   "metadata": {},
   "outputs": [],
   "source": [
    "# === NumPyro models ===\n",
    "# Non-vectorized version (loop) ~ Stan: 3-2-1-simple-lm\n",
    "def model_loop(sales, temperature, N):\n",
    "    Intercept = sample(\"Intercept\", dist.Normal(0.0, 10.0))\n",
    "    beta = sample(\"beta\", dist.Normal(0.0, 10.0))\n",
    "    sigma = sample(\"sigma\", dist.HalfCauchy(5.0))\n",
    "    # non-vectorized likelihood\n",
    "    for i in range(N):\n",
    "        mu_i = Intercept + beta * temperature[i]\n",
    "        sample(f\"sales_{i}\", dist.Normal(mu_i, sigma), obs=sales[i])\n",
    "\n",
    "# Vectorized version ~ Stan: 3-2-2-simple-lm-vec\n",
    "def model_vec(sales=None, temperature=None, N=None):\n",
    "    Intercept = sample(\"Intercept\", dist.Normal(0.0, 10.0))\n",
    "    beta = sample(\"beta\", dist.Normal(0.0, 10.0))\n",
    "    sigma = sample(\"sigma\", dist.HalfCauchy(5.0))\n",
    "    mu = Intercept + beta * temperature\n",
    "    sample(\"sales\", dist.Normal(mu, sigma), obs=sales)"
   ]
  },
  {
   "cell_type": "code",
   "execution_count": null,
   "id": "5a34340d",
   "metadata": {},
   "outputs": [],
   "source": [
    "# === Visualize the Bayesian statistical model structure (NumPyro built-in) ===\n",
    "# Plate/graph of the vectorized model\n",
    "try:\n",
    "    from IPython.display import display\n",
    "    display(render_model(model_vec, model_kwargs={\"sales\": sales, \"temperature\": temperature, \"N\": sample_size}))\n",
    "except Exception:\n",
    "    # If not in a notebook, still build the graph (won't auto-display)\n",
    "    _ = render_model(model_vec, model_kwargs={\"sales\": sales, \"temperature\": temperature, \"N\": sample_size})"
   ]
  },
  {
   "cell_type": "markdown",
   "id": "44e62c4d",
   "metadata": {},
   "source": [
    "## モデルのフィッティング(loop)"
   ]
  },
  {
   "cell_type": "code",
   "execution_count": null,
   "id": "0fd38211",
   "metadata": {},
   "outputs": [],
   "source": [
    "# === MCMC: non-vectorized (reference) ===\n",
    "#nuts_loop = NUTS(model_loop)\n",
    "#mcmc_loop = MCMC(nuts_loop, num_warmup=1000, num_samples=2000, num_chains=2, progress_bar=True)\n",
    "#rng_key, subkey = jax.random.split(rng_key)\n",
    "#mcmc_loop.run(subkey, sales=sales, temperature=temperature, N=sample_size)\n",
    "mcmc_loop = run_mcmc(model_loop, sales=sales, temperature=temperature, N=sample_size)\n",
    "\n",
    "# Convert to InferenceData (do NOT pass observed_data)\n",
    "idata_loop = az.from_numpyro(mcmc_loop)\n",
    "\n",
    "# Print summary with 95% HDI (2.5%/97.5%)\n",
    "summary_loop = az.summary(idata_loop, var_names=[\"Intercept\", \"beta\", \"sigma\"], hdi_prob=0.95)\n",
    "print(\"\\nNon-vectorized model summary (95% HDI):\")  # print()で結果表示\n",
    "print(summary_loop[[\"mean\", \"sd\", \"hdi_2.5%\", \"hdi_97.5%\"]].to_string())"
   ]
  },
  {
   "cell_type": "markdown",
   "id": "2914a1de",
   "metadata": {},
   "source": [
    "## モデルのフィッティング(vec)"
   ]
  },
  {
   "cell_type": "code",
   "execution_count": null,
   "id": "d0b4088a",
   "metadata": {},
   "outputs": [],
   "source": [
    "# === MCMC: vectorized (main) ===\n",
    "#nuts_vec = NUTS(model_vec)\n",
    "#mcmc_vec = MCMC(nuts_vec, num_warmup=1000, num_samples=2000, num_chains=2, progress_bar=True)\n",
    "#rng_key, subkey = jax.random.split(rng_key)\n",
    "#mcmc_vec.run(subkey, sales=sales, temperature=temperature, N=sample_size)\n",
    "mcmc_vec = run_mcmc(model_vec, sales=sales, temperature=temperature, N=sample_size)\n",
    "\n",
    "idata_vec = az.from_numpyro(mcmc_vec)\n",
    "\n",
    "summary_vec = az.summary(idata_vec, var_names=[\"Intercept\", \"beta\", \"sigma\"], hdi_prob=0.95)\n",
    "print(\"\\nVectorized model summary (95% HDI):\")  # print()で結果表示\n",
    "print(summary_vec[[\"mean\", \"sd\", \"hdi_2.5%\", \"hdi_97.5%\"]].to_string())"
   ]
  },
  {
   "cell_type": "markdown",
   "id": "47283cb9",
   "metadata": {},
   "source": [
    "## 事後分布(loop)"
   ]
  },
  {
   "cell_type": "code",
   "execution_count": null,
   "id": "74d41ce0",
   "metadata": {},
   "outputs": [],
   "source": [
    "# === Posterior visualization (ArviZ) ===\n",
    "# Posterior distributions for parameters (use hdi_prob, NOT credible_interval)\n",
    "az.plot_posterior(idata_vec, var_names=[\"Intercept\", \"beta\", \"sigma\"], hdi_prob=0.95)\n",
    "plt.suptitle(\"Posterior Distributions (Vectorized Model)\", y=1.02)\n",
    "plt.tight_layout()\n",
    "plt.show()"
   ]
  },
  {
   "cell_type": "markdown",
   "id": "ad70018d",
   "metadata": {},
   "source": [
    "## 事後分布(vec)"
   ]
  },
  {
   "cell_type": "code",
   "execution_count": null,
   "id": "45590995",
   "metadata": {},
   "outputs": [],
   "source": [
    "# === Posterior Predictive Check (PPC) ===\n",
    "# Generate posterior predictive using samples grouped by chain to preserve dims\n",
    "posterior_samples = mcmc_vec.get_samples(group_by_chain=True)\n",
    "rng_key, pred_key = jax.random.split(rng_key)\n",
    "predictive = Predictive(model_vec, posterior_samples=posterior_samples, batch_ndims = 2)# batch_ndims = num_chains\n",
    "ppc_samples = predictive(pred_key, sales=None, temperature=temperature, N=sample_size)"
   ]
  },
  {
   "cell_type": "markdown",
   "id": "a8127605",
   "metadata": {},
   "source": [
    "## サンプリング結果を結合する"
   ]
  },
  {
   "cell_type": "code",
   "execution_count": null,
   "id": "98512fd5",
   "metadata": {},
   "outputs": [],
   "source": [
    "# Merge PPC into InferenceData (still do NOT pass observed_data)\n",
    "idata_vec_ppc = az.from_numpyro(mcmc_vec, posterior_predictive=ppc_samples)"
   ]
  },
  {
   "cell_type": "markdown",
   "id": "b64c6ce8",
   "metadata": {},
   "source": [
    "## 事後分布をプロットする"
   ]
  },
  {
   "cell_type": "code",
   "execution_count": null,
   "id": "09f51b45",
   "metadata": {},
   "outputs": [],
   "source": [
    "# Plot PPC; explicitly set group=\"posterior\" as requested\n",
    "#az.plot_ppc(idata_vec_ppc, group=\"posterior\")\n",
    "#plt.suptitle(\"Posterior Predictive Check\", y=1.02)\n",
    "#plt.tight_layout()\n",
    "#plt.show()\n",
    "\n",
    "# 凡例のデフォルト位置を固定（例: 右上）\n",
    "with plt.rc_context({\"legend.loc\": \"upper right\"}):\n",
    "    axes = az.plot_ppc(idata_vec_ppc, group=\"posterior\")  # ← ここはそのまま\n",
    "    plt.suptitle(\"Posterior Predictive Check\", y=1.02)\n",
    "    plt.tight_layout()\n",
    "    plt.show()"
   ]
  },
  {
   "cell_type": "markdown",
   "id": "b26204b0",
   "metadata": {},
   "source": [
    "## 回帰直線をプロットする"
   ]
  },
  {
   "cell_type": "code",
   "execution_count": null,
   "id": "d7f80fef",
   "metadata": {},
   "outputs": [],
   "source": [
    "# === Optional: data + fitted regression line (using posterior means) ===\n",
    "beta_mean = float(summary_vec.loc[\"beta\", \"mean\"])\n",
    "intercept_mean = float(summary_vec.loc[\"Intercept\", \"mean\"])\n",
    "xline = np.linspace(df[\"temperature\"].min(), df[\"temperature\"].max(), 100)\n",
    "yline = intercept_mean + beta_mean * xline\n",
    "\n",
    "plt.figure()\n",
    "sns.scatterplot(x=df[\"temperature\"], y=df[\"sales\"])\n",
    "plt.plot(xline, yline)\n",
    "plt.title(\"Beer Sales vs. Temperature with Fitted Line\")\n",
    "plt.xlabel(\"Temperature\")\n",
    "plt.ylabel(\"Sales\")\n",
    "plt.tight_layout()\n",
    "plt.show()"
   ]
  }
 ],
 "metadata": {
  "kernelspec": {
   "display_name": "Python 3",
   "language": "python",
   "name": "python3"
  },
  "language_info": {
   "codemirror_mode": {
    "name": "ipython",
    "version": 3
   },
   "file_extension": ".py",
   "mimetype": "text/x-python",
   "name": "python",
   "nbconvert_exporter": "python",
   "pygments_lexer": "ipython3",
   "version": "3.12.11"
  }
 },
 "nbformat": 4,
 "nbformat_minor": 5
}
